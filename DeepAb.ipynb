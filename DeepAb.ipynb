{
  "cells": [
    {
      "cell_type": "markdown",
      "metadata": {
        "id": "view-in-github",
        "colab_type": "text"
      },
      "source": [
        "<a href=\"https://colab.research.google.com/github/Payal1809/Machine-Learning-Projects-/blob/main/DeepAb.ipynb\" target=\"_parent\"><img src=\"https://colab.research.google.com/assets/colab-badge.svg\" alt=\"Open In Colab\"/></a>"
      ]
    },
    {
      "cell_type": "markdown",
      "metadata": {
        "id": "nfLJKttO3fM4"
      },
      "source": [
        "# DeepAb antibody structure prediction notebook\n",
        "\n",
        "Official notebook for [DeepAb](https://www.sciencedirect.com/science/article/pii/S2666389921002804): Antibody structure prediction using interpretable deep learning. This notebook is made freely available for non-commercial use. Commercial use is available under the terms of the [Rosetta-DL license](https://github.com/RosettaCommons/Rosetta-DL).\n",
        "\n",
        "For more details about DeepAb, please read:\n",
        "[Ruffolo, J. A., Sulam, J., & Gray, J. J. (2022). Antibody structure prediction using interpretable deep learning. _Patterns_, 3(2), 100406.](https://www.sciencedirect.com/science/article/pii/S2666389921002804)"
      ]
    },
    {
      "cell_type": "code",
      "execution_count": 1,
      "metadata": {
        "cellView": "form",
        "id": "Xm2ACqt_3fM-"
      },
      "outputs": [],
      "source": [
        "#@title Input antibody Fv sequences then press `Runtime` -> `Run all`\n",
        "\n",
        "#@markdown To predict single-chain antibodies (nanobodies) or individual light chains, just omit the other chain sequence.\n",
        "\n",
        "import os\n",
        "\n",
        "name = \"my_antibody\" #@param {type:\"string\"}\n",
        "pred_dir = name\n",
        "os.makedirs(pred_dir, exist_ok=True)\n",
        "\n",
        "heavy_sequence = 'EIQLQQSGPELVKPGASVKISCKASGYSFTDYIMLWVKQSHGKSLEWIGNINPYYGSTSYNLKFKGKATLTVDKSSSTAYMQLNSLTSEDSAVYYCARKNYYGSSLDYWGQGTTLTVS' #@param {type:\"string\"}\n",
        "light_sequence = 'DVVMTQTPFSLPVSLGDQASISCRSSQSLVHSNGNTYLHWYLQKPGQSPKLLIYKVSNRFSGVPDRFSGSGSGTDFTLKISRVEAEDLGVYFCSQSTHVPYTFGGGTKLEIK' #@param {type:\"string\"}\n",
        "\n",
        "decoys = 1 #@param {type:\"integer\"}\n",
        "single_chain = len(heavy_sequence) == 0 or len(light_sequence) == 0\n",
        "renumber = True #@param {type:\"boolean\"}"
      ]
    },
    {
      "cell_type": "code",
      "execution_count": 5,
      "metadata": {
        "id": "8dMQ7USW3fNB",
        "colab": {
          "base_uri": "https://localhost:8080/",
          "height": 1000
        },
        "outputId": "cb7fbe83-020b-4734-bf71-345ee877b58a"
      },
      "outputs": [
        {
          "output_type": "stream",
          "name": "stdout",
          "text": [
            "fatal: destination path 'deepab' already exists and is not an empty directory.\n",
            "Requirement already satisfied: beautifulsoup4>=4.6.0 in /usr/local/lib/python3.12/dist-packages (from -r deepab/requirements.txt (line 2)) (4.13.5)\n",
            "Requirement already satisfied: requests>=2.22.0 in /usr/local/lib/python3.12/dist-packages (from -r deepab/requirements.txt (line 3)) (2.32.4)\n",
            "Requirement already satisfied: tqdm>=4.32.2 in /usr/local/lib/python3.12/dist-packages (from -r deepab/requirements.txt (line 4)) (4.67.1)\n",
            "Requirement already satisfied: numpy>=1.18.0 in /usr/local/lib/python3.12/dist-packages (from -r deepab/requirements.txt (line 5)) (2.0.2)\n",
            "Requirement already satisfied: pandas>=0.24.2 in /usr/local/lib/python3.12/dist-packages (from -r deepab/requirements.txt (line 6)) (2.2.2)\n",
            "Requirement already satisfied: biopython>=1.73 in /usr/local/lib/python3.12/dist-packages (from -r deepab/requirements.txt (line 7)) (1.85)\n",
            "Requirement already satisfied: tensorboard==2.1.0 in /usr/local/lib/python3.12/dist-packages (from -r deepab/requirements.txt (line 8)) (2.1.0)\n",
            "Requirement already satisfied: h5py>=2.9.0 in /usr/local/lib/python3.12/dist-packages (from -r deepab/requirements.txt (line 9)) (3.14.0)\n",
            "Requirement already satisfied: future>=0.18.2 in /usr/local/lib/python3.12/dist-packages (from -r deepab/requirements.txt (line 10)) (1.0.0)\n",
            "Requirement already satisfied: openpyxl>=3.0.3 in /usr/local/lib/python3.12/dist-packages (from -r deepab/requirements.txt (line 11)) (3.1.5)\n",
            "Requirement already satisfied: dask==2.21.0 in /usr/local/lib/python3.12/dist-packages (from -r deepab/requirements.txt (line 12)) (2.21.0)\n",
            "Requirement already satisfied: distributed==2.21.0 in /usr/local/lib/python3.12/dist-packages (from -r deepab/requirements.txt (line 13)) (2.21.0)\n",
            "Requirement already satisfied: dask-jobqueue==0.7.1 in /usr/local/lib/python3.12/dist-packages (from -r deepab/requirements.txt (line 14)) (0.7.1)\n",
            "Requirement already satisfied: bokeh>=0.13.0 in /usr/local/lib/python3.12/dist-packages (from -r deepab/requirements.txt (line 15)) (3.7.3)\n",
            "Requirement already satisfied: scikit-learn in /usr/local/lib/python3.12/dist-packages (from -r deepab/requirements.txt (line 16)) (1.6.1)\n",
            "Requirement already satisfied: matplotlib>=3.3.3 in /usr/local/lib/python3.12/dist-packages (from -r deepab/requirements.txt (line 17)) (3.10.0)\n",
            "Requirement already satisfied: torch in /usr/local/lib/python3.12/dist-packages (from -r deepab/requirements.txt (line 18)) (2.8.0+cu126)\n",
            "Requirement already satisfied: torchvision in /usr/local/lib/python3.12/dist-packages (from -r deepab/requirements.txt (line 19)) (0.23.0+cu126)\n",
            "Requirement already satisfied: yapf in /usr/local/lib/python3.12/dist-packages (from -r deepab/requirements.txt (line 20)) (0.43.0)\n",
            "Requirement already satisfied: seaborn in /usr/local/lib/python3.12/dist-packages (from -r deepab/requirements.txt (line 21)) (0.13.2)\n",
            "Requirement already satisfied: einops==0.3.2 in /usr/local/lib/python3.12/dist-packages (from -r deepab/requirements.txt (line 22)) (0.3.2)\n",
            "Requirement already satisfied: absl-py>=0.4 in /usr/local/lib/python3.12/dist-packages (from tensorboard==2.1.0->-r deepab/requirements.txt (line 8)) (1.4.0)\n",
            "Requirement already satisfied: grpcio>=1.24.3 in /usr/local/lib/python3.12/dist-packages (from tensorboard==2.1.0->-r deepab/requirements.txt (line 8)) (1.74.0)\n",
            "Requirement already satisfied: google-auth<2,>=1.6.3 in /usr/local/lib/python3.12/dist-packages (from tensorboard==2.1.0->-r deepab/requirements.txt (line 8)) (1.35.0)\n",
            "Requirement already satisfied: google-auth-oauthlib<0.5,>=0.4.1 in /usr/local/lib/python3.12/dist-packages (from tensorboard==2.1.0->-r deepab/requirements.txt (line 8)) (0.4.6)\n",
            "Requirement already satisfied: markdown>=2.6.8 in /usr/local/lib/python3.12/dist-packages (from tensorboard==2.1.0->-r deepab/requirements.txt (line 8)) (3.8.2)\n",
            "Requirement already satisfied: protobuf>=3.6.0 in /usr/local/lib/python3.12/dist-packages (from tensorboard==2.1.0->-r deepab/requirements.txt (line 8)) (5.29.5)\n",
            "Requirement already satisfied: setuptools>=41.0.0 in /usr/local/lib/python3.12/dist-packages (from tensorboard==2.1.0->-r deepab/requirements.txt (line 8)) (75.2.0)\n",
            "Requirement already satisfied: six>=1.10.0 in /usr/local/lib/python3.12/dist-packages (from tensorboard==2.1.0->-r deepab/requirements.txt (line 8)) (1.17.0)\n",
            "Requirement already satisfied: werkzeug>=0.11.15 in /usr/local/lib/python3.12/dist-packages (from tensorboard==2.1.0->-r deepab/requirements.txt (line 8)) (3.1.3)\n",
            "Requirement already satisfied: wheel>=0.26 in /usr/local/lib/python3.12/dist-packages (from tensorboard==2.1.0->-r deepab/requirements.txt (line 8)) (0.45.1)\n",
            "Requirement already satisfied: pyyaml in /usr/local/lib/python3.12/dist-packages (from dask==2.21.0->-r deepab/requirements.txt (line 12)) (6.0.2)\n",
            "Requirement already satisfied: click>=6.6 in /usr/local/lib/python3.12/dist-packages (from distributed==2.21.0->-r deepab/requirements.txt (line 13)) (8.2.1)\n",
            "Requirement already satisfied: cloudpickle>=1.5.0 in /usr/local/lib/python3.12/dist-packages (from distributed==2.21.0->-r deepab/requirements.txt (line 13)) (3.1.1)\n",
            "Requirement already satisfied: msgpack>=0.6.0 in /usr/local/lib/python3.12/dist-packages (from distributed==2.21.0->-r deepab/requirements.txt (line 13)) (1.1.1)\n",
            "Requirement already satisfied: psutil>=5.0 in /usr/local/lib/python3.12/dist-packages (from distributed==2.21.0->-r deepab/requirements.txt (line 13)) (5.9.5)\n",
            "Requirement already satisfied: sortedcontainers!=2.0.0,!=2.0.1 in /usr/local/lib/python3.12/dist-packages (from distributed==2.21.0->-r deepab/requirements.txt (line 13)) (2.4.0)\n",
            "Requirement already satisfied: tblib>=1.6.0 in /usr/local/lib/python3.12/dist-packages (from distributed==2.21.0->-r deepab/requirements.txt (line 13)) (3.1.0)\n",
            "Requirement already satisfied: toolz>=0.8.2 in /usr/local/lib/python3.12/dist-packages (from distributed==2.21.0->-r deepab/requirements.txt (line 13)) (0.12.1)\n",
            "Requirement already satisfied: zict>=0.1.3 in /usr/local/lib/python3.12/dist-packages (from distributed==2.21.0->-r deepab/requirements.txt (line 13)) (3.0.0)\n",
            "Requirement already satisfied: tornado>=6.0.3 in /usr/local/lib/python3.12/dist-packages (from distributed==2.21.0->-r deepab/requirements.txt (line 13)) (6.4.2)\n",
            "Requirement already satisfied: soupsieve>1.2 in /usr/local/lib/python3.12/dist-packages (from beautifulsoup4>=4.6.0->-r deepab/requirements.txt (line 2)) (2.7)\n",
            "Requirement already satisfied: typing-extensions>=4.0.0 in /usr/local/lib/python3.12/dist-packages (from beautifulsoup4>=4.6.0->-r deepab/requirements.txt (line 2)) (4.15.0)\n",
            "Requirement already satisfied: charset_normalizer<4,>=2 in /usr/local/lib/python3.12/dist-packages (from requests>=2.22.0->-r deepab/requirements.txt (line 3)) (3.4.3)\n",
            "Requirement already satisfied: idna<4,>=2.5 in /usr/local/lib/python3.12/dist-packages (from requests>=2.22.0->-r deepab/requirements.txt (line 3)) (3.10)\n",
            "Requirement already satisfied: urllib3<3,>=1.21.1 in /usr/local/lib/python3.12/dist-packages (from requests>=2.22.0->-r deepab/requirements.txt (line 3)) (2.5.0)\n",
            "Requirement already satisfied: certifi>=2017.4.17 in /usr/local/lib/python3.12/dist-packages (from requests>=2.22.0->-r deepab/requirements.txt (line 3)) (2025.8.3)\n",
            "Requirement already satisfied: python-dateutil>=2.8.2 in /usr/local/lib/python3.12/dist-packages (from pandas>=0.24.2->-r deepab/requirements.txt (line 6)) (2.9.0.post0)\n",
            "Requirement already satisfied: pytz>=2020.1 in /usr/local/lib/python3.12/dist-packages (from pandas>=0.24.2->-r deepab/requirements.txt (line 6)) (2025.2)\n",
            "Requirement already satisfied: tzdata>=2022.7 in /usr/local/lib/python3.12/dist-packages (from pandas>=0.24.2->-r deepab/requirements.txt (line 6)) (2025.2)\n",
            "Requirement already satisfied: et-xmlfile in /usr/local/lib/python3.12/dist-packages (from openpyxl>=3.0.3->-r deepab/requirements.txt (line 11)) (2.0.0)\n",
            "Requirement already satisfied: Jinja2>=2.9 in /usr/local/lib/python3.12/dist-packages (from bokeh>=0.13.0->-r deepab/requirements.txt (line 15)) (3.1.6)\n",
            "Requirement already satisfied: contourpy>=1.2 in /usr/local/lib/python3.12/dist-packages (from bokeh>=0.13.0->-r deepab/requirements.txt (line 15)) (1.3.3)\n",
            "Requirement already satisfied: narwhals>=1.13 in /usr/local/lib/python3.12/dist-packages (from bokeh>=0.13.0->-r deepab/requirements.txt (line 15)) (2.2.0)\n",
            "Requirement already satisfied: packaging>=16.8 in /usr/local/lib/python3.12/dist-packages (from bokeh>=0.13.0->-r deepab/requirements.txt (line 15)) (25.0)\n",
            "Requirement already satisfied: pillow>=7.1.0 in /usr/local/lib/python3.12/dist-packages (from bokeh>=0.13.0->-r deepab/requirements.txt (line 15)) (11.3.0)\n",
            "Requirement already satisfied: xyzservices>=2021.09.1 in /usr/local/lib/python3.12/dist-packages (from bokeh>=0.13.0->-r deepab/requirements.txt (line 15)) (2025.4.0)\n",
            "Requirement already satisfied: scipy>=1.6.0 in /usr/local/lib/python3.12/dist-packages (from scikit-learn->-r deepab/requirements.txt (line 16)) (1.16.1)\n",
            "Requirement already satisfied: joblib>=1.2.0 in /usr/local/lib/python3.12/dist-packages (from scikit-learn->-r deepab/requirements.txt (line 16)) (1.5.1)\n",
            "Requirement already satisfied: threadpoolctl>=3.1.0 in /usr/local/lib/python3.12/dist-packages (from scikit-learn->-r deepab/requirements.txt (line 16)) (3.6.0)\n",
            "Requirement already satisfied: cycler>=0.10 in /usr/local/lib/python3.12/dist-packages (from matplotlib>=3.3.3->-r deepab/requirements.txt (line 17)) (0.12.1)\n",
            "Requirement already satisfied: fonttools>=4.22.0 in /usr/local/lib/python3.12/dist-packages (from matplotlib>=3.3.3->-r deepab/requirements.txt (line 17)) (4.59.1)\n",
            "Requirement already satisfied: kiwisolver>=1.3.1 in /usr/local/lib/python3.12/dist-packages (from matplotlib>=3.3.3->-r deepab/requirements.txt (line 17)) (1.4.9)\n",
            "Requirement already satisfied: pyparsing>=2.3.1 in /usr/local/lib/python3.12/dist-packages (from matplotlib>=3.3.3->-r deepab/requirements.txt (line 17)) (3.2.3)\n",
            "Requirement already satisfied: filelock in /usr/local/lib/python3.12/dist-packages (from torch->-r deepab/requirements.txt (line 18)) (3.19.1)\n",
            "Requirement already satisfied: sympy>=1.13.3 in /usr/local/lib/python3.12/dist-packages (from torch->-r deepab/requirements.txt (line 18)) (1.13.3)\n",
            "Requirement already satisfied: networkx in /usr/local/lib/python3.12/dist-packages (from torch->-r deepab/requirements.txt (line 18)) (3.5)\n",
            "Requirement already satisfied: fsspec in /usr/local/lib/python3.12/dist-packages (from torch->-r deepab/requirements.txt (line 18)) (2025.3.0)\n",
            "Requirement already satisfied: nvidia-cuda-nvrtc-cu12==12.6.77 in /usr/local/lib/python3.12/dist-packages (from torch->-r deepab/requirements.txt (line 18)) (12.6.77)\n",
            "Requirement already satisfied: nvidia-cuda-runtime-cu12==12.6.77 in /usr/local/lib/python3.12/dist-packages (from torch->-r deepab/requirements.txt (line 18)) (12.6.77)\n",
            "Requirement already satisfied: nvidia-cuda-cupti-cu12==12.6.80 in /usr/local/lib/python3.12/dist-packages (from torch->-r deepab/requirements.txt (line 18)) (12.6.80)\n",
            "Requirement already satisfied: nvidia-cudnn-cu12==9.10.2.21 in /usr/local/lib/python3.12/dist-packages (from torch->-r deepab/requirements.txt (line 18)) (9.10.2.21)\n",
            "Requirement already satisfied: nvidia-cublas-cu12==12.6.4.1 in /usr/local/lib/python3.12/dist-packages (from torch->-r deepab/requirements.txt (line 18)) (12.6.4.1)\n",
            "Requirement already satisfied: nvidia-cufft-cu12==11.3.0.4 in /usr/local/lib/python3.12/dist-packages (from torch->-r deepab/requirements.txt (line 18)) (11.3.0.4)\n",
            "Requirement already satisfied: nvidia-curand-cu12==10.3.7.77 in /usr/local/lib/python3.12/dist-packages (from torch->-r deepab/requirements.txt (line 18)) (10.3.7.77)\n",
            "Requirement already satisfied: nvidia-cusolver-cu12==11.7.1.2 in /usr/local/lib/python3.12/dist-packages (from torch->-r deepab/requirements.txt (line 18)) (11.7.1.2)\n",
            "Requirement already satisfied: nvidia-cusparse-cu12==12.5.4.2 in /usr/local/lib/python3.12/dist-packages (from torch->-r deepab/requirements.txt (line 18)) (12.5.4.2)\n",
            "Requirement already satisfied: nvidia-cusparselt-cu12==0.7.1 in /usr/local/lib/python3.12/dist-packages (from torch->-r deepab/requirements.txt (line 18)) (0.7.1)\n",
            "Requirement already satisfied: nvidia-nccl-cu12==2.27.3 in /usr/local/lib/python3.12/dist-packages (from torch->-r deepab/requirements.txt (line 18)) (2.27.3)\n",
            "Requirement already satisfied: nvidia-nvtx-cu12==12.6.77 in /usr/local/lib/python3.12/dist-packages (from torch->-r deepab/requirements.txt (line 18)) (12.6.77)\n",
            "Requirement already satisfied: nvidia-nvjitlink-cu12==12.6.85 in /usr/local/lib/python3.12/dist-packages (from torch->-r deepab/requirements.txt (line 18)) (12.6.85)\n",
            "Requirement already satisfied: nvidia-cufile-cu12==1.11.1.6 in /usr/local/lib/python3.12/dist-packages (from torch->-r deepab/requirements.txt (line 18)) (1.11.1.6)\n",
            "Requirement already satisfied: triton==3.4.0 in /usr/local/lib/python3.12/dist-packages (from torch->-r deepab/requirements.txt (line 18)) (3.4.0)\n",
            "Requirement already satisfied: platformdirs>=3.5.1 in /usr/local/lib/python3.12/dist-packages (from yapf->-r deepab/requirements.txt (line 20)) (4.3.8)\n",
            "Requirement already satisfied: cachetools<5.0,>=2.0.0 in /usr/local/lib/python3.12/dist-packages (from google-auth<2,>=1.6.3->tensorboard==2.1.0->-r deepab/requirements.txt (line 8)) (4.2.4)\n",
            "Requirement already satisfied: pyasn1-modules>=0.2.1 in /usr/local/lib/python3.12/dist-packages (from google-auth<2,>=1.6.3->tensorboard==2.1.0->-r deepab/requirements.txt (line 8)) (0.4.2)\n",
            "Requirement already satisfied: rsa<5,>=3.1.4 in /usr/local/lib/python3.12/dist-packages (from google-auth<2,>=1.6.3->tensorboard==2.1.0->-r deepab/requirements.txt (line 8)) (4.9.1)\n",
            "Requirement already satisfied: requests-oauthlib>=0.7.0 in /usr/local/lib/python3.12/dist-packages (from google-auth-oauthlib<0.5,>=0.4.1->tensorboard==2.1.0->-r deepab/requirements.txt (line 8)) (2.0.0)\n",
            "Requirement already satisfied: MarkupSafe>=2.0 in /usr/local/lib/python3.12/dist-packages (from Jinja2>=2.9->bokeh>=0.13.0->-r deepab/requirements.txt (line 15)) (3.0.2)\n",
            "Requirement already satisfied: mpmath<1.4,>=1.1.0 in /usr/local/lib/python3.12/dist-packages (from sympy>=1.13.3->torch->-r deepab/requirements.txt (line 18)) (1.3.0)\n",
            "Requirement already satisfied: pyasn1<0.7.0,>=0.6.1 in /usr/local/lib/python3.12/dist-packages (from pyasn1-modules>=0.2.1->google-auth<2,>=1.6.3->tensorboard==2.1.0->-r deepab/requirements.txt (line 8)) (0.6.1)\n",
            "Requirement already satisfied: oauthlib>=3.0.0 in /usr/local/lib/python3.12/dist-packages (from requests-oauthlib>=0.7.0->google-auth-oauthlib<0.5,>=0.4.1->tensorboard==2.1.0->-r deepab/requirements.txt (line 8)) (3.3.1)\n",
            "Requirement already satisfied: pyrosettacolabsetup in /usr/local/lib/python3.12/dist-packages (1.0.9)\n"
          ]
        },
        {
          "output_type": "error",
          "ename": "MessageError",
          "evalue": "Error: credential propagation was unsuccessful",
          "traceback": [
            "\u001b[0;31m---------------------------------------------------------------------------\u001b[0m",
            "\u001b[0;31mMessageError\u001b[0m                              Traceback (most recent call last)",
            "\u001b[0;32m/tmp/ipython-input-3971205854.py\u001b[0m in \u001b[0;36m<cell line: 0>\u001b[0;34m()\u001b[0m\n\u001b[1;32m     26\u001b[0m   \u001b[0;32mimport\u001b[0m \u001b[0mpyrosettacolabsetup\u001b[0m\u001b[0;34m\u001b[0m\u001b[0;34m\u001b[0m\u001b[0m\n\u001b[1;32m     27\u001b[0m   \u001b[0;32mif\u001b[0m \u001b[0;32mnot\u001b[0m \u001b[0mos\u001b[0m\u001b[0;34m.\u001b[0m\u001b[0mpath\u001b[0m\u001b[0;34m.\u001b[0m\u001b[0mexists\u001b[0m\u001b[0;34m(\u001b[0m\u001b[0;34m\"/content/google_drive/MyDrive/PyRosetta/colab.bin\"\u001b[0m\u001b[0;34m)\u001b[0m\u001b[0;34m:\u001b[0m\u001b[0;34m\u001b[0m\u001b[0;34m\u001b[0m\u001b[0m\n\u001b[0;32m---> 28\u001b[0;31m     \u001b[0mpyrosettacolabsetup\u001b[0m\u001b[0;34m.\u001b[0m\u001b[0minstall_pyrosetta\u001b[0m\u001b[0;34m(\u001b[0m\u001b[0;34m)\u001b[0m\u001b[0;34m\u001b[0m\u001b[0;34m\u001b[0m\u001b[0m\n\u001b[0m\u001b[1;32m     29\u001b[0m   \u001b[0;32melse\u001b[0m\u001b[0;34m:\u001b[0m\u001b[0;34m\u001b[0m\u001b[0;34m\u001b[0m\u001b[0m\n\u001b[1;32m     30\u001b[0m     \u001b[0mpyrosettacolabsetup\u001b[0m\u001b[0;34m.\u001b[0m\u001b[0mmount_pyrosetta_install\u001b[0m\u001b[0;34m(\u001b[0m\u001b[0;34m)\u001b[0m\u001b[0;34m\u001b[0m\u001b[0;34m\u001b[0m\u001b[0m\n",
            "\u001b[0;32m/usr/local/lib/python3.12/dist-packages/pyrosettacolabsetup/__init__.py\u001b[0m in \u001b[0;36minstall_pyrosetta_on_colab\u001b[0;34m(prefix, cache_wheel_on_google_drive, mirror, serialization)\u001b[0m\n\u001b[1;32m    166\u001b[0m     \u001b[0;32mexcept\u001b[0m \u001b[0mModuleNotFoundError\u001b[0m\u001b[0;34m:\u001b[0m \u001b[0;32mpass\u001b[0m\u001b[0;34m\u001b[0m\u001b[0;34m\u001b[0m\u001b[0m\n\u001b[1;32m    167\u001b[0m \u001b[0;34m\u001b[0m\u001b[0m\n\u001b[0;32m--> 168\u001b[0;31m     \u001b[0;32mif\u001b[0m \u001b[0mcache_wheel_on_google_drive\u001b[0m\u001b[0;34m:\u001b[0m \u001b[0mpyrosetta_root\u001b[0m \u001b[0;34m=\u001b[0m \u001b[0mmount_google_drive\u001b[0m\u001b[0;34m(\u001b[0m\u001b[0;34m)\u001b[0m \u001b[0;34m+\u001b[0m \u001b[0;34m'/'\u001b[0m \u001b[0;34m+\u001b[0m \u001b[0mprefix\u001b[0m\u001b[0;34m\u001b[0m\u001b[0;34m\u001b[0m\u001b[0m\n\u001b[0m\u001b[1;32m    169\u001b[0m     \u001b[0;32melse\u001b[0m\u001b[0;34m:\u001b[0m\u001b[0;34m\u001b[0m\u001b[0;34m\u001b[0m\u001b[0m\n\u001b[1;32m    170\u001b[0m       \u001b[0mpyrosetta_root\u001b[0m \u001b[0;34m=\u001b[0m \u001b[0;34m'/'\u001b[0m \u001b[0;34m+\u001b[0m \u001b[0mprefix\u001b[0m\u001b[0;34m\u001b[0m\u001b[0;34m\u001b[0m\u001b[0m\n",
            "\u001b[0;32m/usr/local/lib/python3.12/dist-packages/pyrosettacolabsetup/__init__.py\u001b[0m in \u001b[0;36mmount_google_drive\u001b[0;34m()\u001b[0m\n\u001b[1;32m     72\u001b[0m     \u001b[0;31m#if 'google.colab' in sys.modules:\u001b[0m\u001b[0;34m\u001b[0m\u001b[0;34m\u001b[0m\u001b[0m\n\u001b[1;32m     73\u001b[0m     \u001b[0;32mfrom\u001b[0m \u001b[0mgoogle\u001b[0m\u001b[0;34m.\u001b[0m\u001b[0mcolab\u001b[0m \u001b[0;32mimport\u001b[0m \u001b[0mdrive\u001b[0m\u001b[0;34m\u001b[0m\u001b[0;34m\u001b[0m\u001b[0m\n\u001b[0;32m---> 74\u001b[0;31m     \u001b[0mdrive\u001b[0m\u001b[0;34m.\u001b[0m\u001b[0mmount\u001b[0m\u001b[0;34m(\u001b[0m\u001b[0mgoogle_drive_mount_point\u001b[0m\u001b[0;34m)\u001b[0m\u001b[0;34m\u001b[0m\u001b[0;34m\u001b[0m\u001b[0m\n\u001b[0m\u001b[1;32m     75\u001b[0m \u001b[0;34m\u001b[0m\u001b[0m\n\u001b[1;32m     76\u001b[0m     \u001b[0mgoogle_drive_path\u001b[0m \u001b[0;34m=\u001b[0m \u001b[0mgoogle_drive_mount_point\u001b[0m \u001b[0;34m+\u001b[0m \u001b[0;34m'/MyDrive'\u001b[0m\u001b[0;34m\u001b[0m\u001b[0;34m\u001b[0m\u001b[0m\n",
            "\u001b[0;32m/usr/local/lib/python3.12/dist-packages/google/colab/drive.py\u001b[0m in \u001b[0;36mmount\u001b[0;34m(mountpoint, force_remount, timeout_ms, readonly)\u001b[0m\n\u001b[1;32m     95\u001b[0m \u001b[0;32mdef\u001b[0m \u001b[0mmount\u001b[0m\u001b[0;34m(\u001b[0m\u001b[0mmountpoint\u001b[0m\u001b[0;34m,\u001b[0m \u001b[0mforce_remount\u001b[0m\u001b[0;34m=\u001b[0m\u001b[0;32mFalse\u001b[0m\u001b[0;34m,\u001b[0m \u001b[0mtimeout_ms\u001b[0m\u001b[0;34m=\u001b[0m\u001b[0;36m120000\u001b[0m\u001b[0;34m,\u001b[0m \u001b[0mreadonly\u001b[0m\u001b[0;34m=\u001b[0m\u001b[0;32mFalse\u001b[0m\u001b[0;34m)\u001b[0m\u001b[0;34m:\u001b[0m\u001b[0;34m\u001b[0m\u001b[0;34m\u001b[0m\u001b[0m\n\u001b[1;32m     96\u001b[0m   \u001b[0;34m\"\"\"Mount your Google Drive at the specified mountpoint path.\"\"\"\u001b[0m\u001b[0;34m\u001b[0m\u001b[0;34m\u001b[0m\u001b[0m\n\u001b[0;32m---> 97\u001b[0;31m   return _mount(\n\u001b[0m\u001b[1;32m     98\u001b[0m       \u001b[0mmountpoint\u001b[0m\u001b[0;34m,\u001b[0m\u001b[0;34m\u001b[0m\u001b[0;34m\u001b[0m\u001b[0m\n\u001b[1;32m     99\u001b[0m       \u001b[0mforce_remount\u001b[0m\u001b[0;34m=\u001b[0m\u001b[0mforce_remount\u001b[0m\u001b[0;34m,\u001b[0m\u001b[0;34m\u001b[0m\u001b[0;34m\u001b[0m\u001b[0m\n",
            "\u001b[0;32m/usr/local/lib/python3.12/dist-packages/google/colab/drive.py\u001b[0m in \u001b[0;36m_mount\u001b[0;34m(mountpoint, force_remount, timeout_ms, ephemeral, readonly)\u001b[0m\n\u001b[1;32m    132\u001b[0m   )\n\u001b[1;32m    133\u001b[0m   \u001b[0;32mif\u001b[0m \u001b[0mephemeral\u001b[0m\u001b[0;34m:\u001b[0m\u001b[0;34m\u001b[0m\u001b[0;34m\u001b[0m\u001b[0m\n\u001b[0;32m--> 134\u001b[0;31m     _message.blocking_request(\n\u001b[0m\u001b[1;32m    135\u001b[0m         \u001b[0;34m'request_auth'\u001b[0m\u001b[0;34m,\u001b[0m\u001b[0;34m\u001b[0m\u001b[0;34m\u001b[0m\u001b[0m\n\u001b[1;32m    136\u001b[0m         \u001b[0mrequest\u001b[0m\u001b[0;34m=\u001b[0m\u001b[0;34m{\u001b[0m\u001b[0;34m'authType'\u001b[0m\u001b[0;34m:\u001b[0m \u001b[0;34m'dfs_ephemeral'\u001b[0m\u001b[0;34m}\u001b[0m\u001b[0;34m,\u001b[0m\u001b[0;34m\u001b[0m\u001b[0;34m\u001b[0m\u001b[0m\n",
            "\u001b[0;32m/usr/local/lib/python3.12/dist-packages/google/colab/_message.py\u001b[0m in \u001b[0;36mblocking_request\u001b[0;34m(request_type, request, timeout_sec, parent)\u001b[0m\n\u001b[1;32m    174\u001b[0m       \u001b[0mrequest_type\u001b[0m\u001b[0;34m,\u001b[0m \u001b[0mrequest\u001b[0m\u001b[0;34m,\u001b[0m \u001b[0mparent\u001b[0m\u001b[0;34m=\u001b[0m\u001b[0mparent\u001b[0m\u001b[0;34m,\u001b[0m \u001b[0mexpect_reply\u001b[0m\u001b[0;34m=\u001b[0m\u001b[0;32mTrue\u001b[0m\u001b[0;34m\u001b[0m\u001b[0;34m\u001b[0m\u001b[0m\n\u001b[1;32m    175\u001b[0m   )\n\u001b[0;32m--> 176\u001b[0;31m   \u001b[0;32mreturn\u001b[0m \u001b[0mread_reply_from_input\u001b[0m\u001b[0;34m(\u001b[0m\u001b[0mrequest_id\u001b[0m\u001b[0;34m,\u001b[0m \u001b[0mtimeout_sec\u001b[0m\u001b[0;34m)\u001b[0m\u001b[0;34m\u001b[0m\u001b[0;34m\u001b[0m\u001b[0m\n\u001b[0m",
            "\u001b[0;32m/usr/local/lib/python3.12/dist-packages/google/colab/_message.py\u001b[0m in \u001b[0;36mread_reply_from_input\u001b[0;34m(message_id, timeout_sec)\u001b[0m\n\u001b[1;32m    101\u001b[0m     ):\n\u001b[1;32m    102\u001b[0m       \u001b[0;32mif\u001b[0m \u001b[0;34m'error'\u001b[0m \u001b[0;32min\u001b[0m \u001b[0mreply\u001b[0m\u001b[0;34m:\u001b[0m\u001b[0;34m\u001b[0m\u001b[0;34m\u001b[0m\u001b[0m\n\u001b[0;32m--> 103\u001b[0;31m         \u001b[0;32mraise\u001b[0m \u001b[0mMessageError\u001b[0m\u001b[0;34m(\u001b[0m\u001b[0mreply\u001b[0m\u001b[0;34m[\u001b[0m\u001b[0;34m'error'\u001b[0m\u001b[0;34m]\u001b[0m\u001b[0;34m)\u001b[0m\u001b[0;34m\u001b[0m\u001b[0;34m\u001b[0m\u001b[0m\n\u001b[0m\u001b[1;32m    104\u001b[0m       \u001b[0;32mreturn\u001b[0m \u001b[0mreply\u001b[0m\u001b[0;34m.\u001b[0m\u001b[0mget\u001b[0m\u001b[0;34m(\u001b[0m\u001b[0;34m'data'\u001b[0m\u001b[0;34m,\u001b[0m \u001b[0;32mNone\u001b[0m\u001b[0;34m)\u001b[0m\u001b[0;34m\u001b[0m\u001b[0;34m\u001b[0m\u001b[0m\n\u001b[1;32m    105\u001b[0m \u001b[0;34m\u001b[0m\u001b[0m\n",
            "\u001b[0;31mMessageError\u001b[0m: Error: credential propagation was unsuccessful"
          ]
        }
      ],
      "source": [
        "#@title Install DeepAb code and dependencies\n",
        "\n",
        "#@markdown This step will clone the DeepAb repository and install the required dependencies.\n",
        "#@markdown Be sure to obtain the appropriate [PyRosetta license](https://www.pyrosetta.org/home/licensing-pyrosetta). This step may request access to your Google Drive and require restarting your runtime. If this is your first time running the notebook, this step may take several minutes.\n",
        "\n",
        "! git clone http://github.com/rosettacommons/deepab\n",
        "# Modify requirements.txt to remove torch and torchvision version specifiers\n",
        "! sed -i 's/torch==1.7.1/torch/' deepab/requirements.txt\n",
        "! sed -i 's/torchvision==0.8.2/torchvision/' deepab/requirements.txt\n",
        "%pip install -r deepab/requirements.txt\n",
        "\n",
        "import sys\n",
        "from glob import glob\n",
        "from tqdm.contrib.concurrent import process_map\n",
        "import torch\n",
        "import numpy as np\n",
        "\n",
        "sys.path.insert(0, \"deepab\")\n",
        "\n",
        "OUT_DIR = \"predict_structure\"\n",
        "os.makedirs(OUT_DIR, exist_ok=True)\n",
        "\n",
        "# Notebook setup\n",
        "if 'google.colab' in sys.modules:\n",
        "  !pip install pyrosettacolabsetup\n",
        "  import pyrosettacolabsetup\n",
        "  if not os.path.exists(\"/content/google_drive/MyDrive/PyRosetta/colab.bin\"):\n",
        "    pyrosettacolabsetup.install_pyrosetta()\n",
        "  else:\n",
        "    pyrosettacolabsetup.mount_pyrosetta_install()\n",
        "\n",
        "import pyrosetta\n",
        "pyrosetta.init(\n",
        "    \"-mute all -detect_disulf true -detect_disulf_tolerance 1.5 -check_cdr_chainbreaks false\"\n",
        ")\n",
        "\n",
        "from predict import load_model, ModelEnsemble, get_cst_defs, build_structure, renumber_pdb\n",
        "from annotate_attention import cdr_indices, annotate_structure"
      ]
    },
    {
      "cell_type": "code",
      "execution_count": null,
      "metadata": {
        "cellView": "form",
        "id": "6C0kI-6Y3fND"
      },
      "outputs": [],
      "source": [
        "#@title Download trained models\n",
        "\n",
        "#@markdown This step may take several minutes if models are not found locally.\n",
        "\n",
        "model_files = [\n",
        "    \"ensemble_abresnet/rs0.pt\",\n",
        "    \"ensemble_abresnet/rs1.pt\",\n",
        "    \"ensemble_abresnet/rs2.pt\",\n",
        "    \"ensemble_abresnet/rs3.pt\",\n",
        "    \"ensemble_abresnet/rs4.pt\",\n",
        "]\n",
        "\n",
        "do_download = all([not os.path.exists(f) for f in model_files])\n",
        "if do_download:\n",
        "    os.system(\"wget https://data.graylab.jhu.edu/ensemble_abresnet_v1.tar.gz\")\n",
        "    os.system(\"tar -xf ensemble_abresnet_v1.tar.gz\")\n",
        "\n",
        "device_type = 'cuda' if torch.cuda.is_available() else 'cpu'\n",
        "device = torch.device(device_type)\n",
        "model = ModelEnsemble(model_files=model_files,\n",
        "                          load_model=load_model,\n",
        "                          eval_mode=True,\n",
        "                          device=device)\n",
        "single_model = load_model(model_files[0],\n",
        "                          eval_mode=True,\n",
        "                          device=device)"
      ]
    },
    {
      "cell_type": "code",
      "execution_count": null,
      "metadata": {
        "cellView": "form",
        "id": "FdgOBLv93fND"
      },
      "outputs": [],
      "source": [
        "#@title Predict antibody structure with DeepAb\n",
        "\n",
        "#@markdown Antibody structure prediction with DeepAb involves three main steps: constraint generation, initial structure prediction by multi-dimensional scaling, and structural refinement with PyRosetta.\n",
        "#@markdown Expected runtime is approximately ten minutes for five decoys.\n",
        "\n",
        "fasta_file = os.path.join(pred_dir, f\"{name}.fasta\")\n",
        "with open(fasta_file, \"w\") as f:\n",
        "    f.write(\">:H\\n{}\\n>:L\\n{}\\n\".format(heavy_sequence, light_sequence))\n",
        "cst_defs = get_cst_defs(model, fasta_file, device=device)\n",
        "\n",
        "pred_pdb = build_structure(model,\n",
        "                                fasta_file,\n",
        "                                cst_defs,\n",
        "                                pred_dir,\n",
        "                                target=name,\n",
        "                                num_decoys=decoys,\n",
        "                                num_procs=decoys,\n",
        "                                single_chain=single_chain,\n",
        "                                device=device)\n",
        "\n",
        "if renumber:\n",
        "    renumber_pdb(pred_pdb, pred_pdb)"
      ]
    },
    {
      "cell_type": "code",
      "execution_count": null,
      "metadata": {
        "cellView": "form",
        "id": "wlTrQp0Z3fNE"
      },
      "outputs": [],
      "source": [
        "#@title Annotate predicted structure with output attention.\n",
        "\n",
        "#@markdown Visualize the inter-residue attention from an output geometry branch from DeepAb. The attention scores will replace the B-factors in the predicted structure.\n",
        "\n",
        "cdr_loop = \"h3\" #@param [\"h1\", \"h2\", \"h3\", \"l1\", \"l2\", \"l3\"]\n",
        "cdr_i = cdr_indices(pred_pdb, cdr_loop)\n",
        "\n",
        "attn_branch = \"ca\" #@param [\"ca\", \"cb\", \"no\", \"omega\", \"theta\", \"phi\"]\n",
        "\n",
        "attn_pdb_file = pred_pdb.replace(\".pdb\", f\".{cdr_loop}_attn.pdb\")\n",
        "os.system(f\"cp {pred_pdb} {attn_pdb_file}\")\n",
        "\n",
        "annotate_structure(single_model, fasta_file, attn_pdb_file, cdr_i, attn_branch)"
      ]
    },
    {
      "cell_type": "code",
      "execution_count": null,
      "metadata": {
        "cellView": "form",
        "id": "1WydyJMv3fNF"
      },
      "outputs": [],
      "source": [
        "from google.colab import files\n",
        "\n",
        "#@title Download results\n",
        "\n",
        "#@markdown Download zip file containing structure prediction and annotation results. If download fails, results are also accessible from file explorer on the left panel of the notebook.\n",
        "\n",
        "!zip -FSr $name\".result.zip\" $pred_dir/\n",
        "files.download(f\"{name}.result.zip\")"
      ]
    }
  ],
  "metadata": {
    "interpreter": {
      "hash": "782c5e8831d9fdd1f686474d0afe590ac2fe73cb65eedbd6b51c5a6ccffb32a5"
    },
    "kernelspec": {
      "display_name": "Python 3.7.13 ('venv': venv)",
      "language": "python",
      "name": "python3"
    },
    "language_info": {
      "codemirror_mode": {
        "name": "ipython",
        "version": 3
      },
      "file_extension": ".py",
      "mimetype": "text/x-python",
      "name": "python",
      "nbconvert_exporter": "python",
      "pygments_lexer": "ipython3",
      "version": "3.7.13"
    },
    "orig_nbformat": 4,
    "colab": {
      "name": "Copy of DeepAb.ipynb",
      "provenance": [],
      "include_colab_link": true
    }
  },
  "nbformat": 4,
  "nbformat_minor": 0
}